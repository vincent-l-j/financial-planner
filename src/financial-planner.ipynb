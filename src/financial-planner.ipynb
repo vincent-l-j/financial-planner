{
 "cells": [
  {
   "cell_type": "markdown",
   "metadata": {},
   "source": [
    "# Unit 5 - Financial Planning"
   ]
  },
  {
   "cell_type": "code",
   "execution_count": 1,
   "metadata": {},
   "outputs": [],
   "source": [
    "# Initial imports\n",
    "import os\n",
    "import requests\n",
    "import pandas as pd\n",
    "from dotenv import load_dotenv\n",
    "import alpaca_trade_api as tradeapi\n",
    "from MCForecastTools import MCSimulation\n",
    "\n",
    "%matplotlib inline"
   ]
  },
  {
   "cell_type": "code",
   "execution_count": 2,
   "metadata": {},
   "outputs": [],
   "source": [
    "# Load .env enviroment variables\n",
    "load_dotenv()"
   ]
  },
  {
   "cell_type": "markdown",
   "metadata": {},
   "source": [
    "## Part 1 - Personal Finance Planner"
   ]
  },
  {
   "cell_type": "markdown",
   "metadata": {},
   "source": [
    "### Collect Crypto Prices Using the `requests` Library"
   ]
  },
  {
   "cell_type": "code",
   "execution_count": 3,
   "metadata": {},
   "outputs": [],
   "source": [
    "# Set current amount of crypto assets\n",
    "my_btc = 1.2\n",
    "my_eth = 5.3"
   ]
  },
  {
   "cell_type": "code",
   "execution_count": 4,
   "metadata": {},
   "outputs": [],
   "source": [
    "# Crypto API URLs\n",
    "btc_url = \"https://api.alternative.me/v2/ticker/Bitcoin/?convert=CAD\"\n",
    "eth_url = \"https://api.alternative.me/v2/ticker/Ethereum/?convert=CAD\""
   ]
  },
  {
   "cell_type": "code",
   "execution_count": 5,
   "metadata": {},
   "outputs": [],
   "source": [
    "# Fetch current BTC price\n",
    "data = requests.get(btc_url).json()['data']\n",
    "price_btc = data[list(data.keys())[0]]['quotes']['CAD']['price']\n",
    "\n",
    "# # Fetch current ETH price\n",
    "data = requests.get(eth_url).json()['data']\n",
    "price_eth = data[list(data.keys())[0]]['quotes']['CAD']['price']\n",
    "\n",
    "# # Compute current value of my crpto\n",
    "my_btc_value = my_btc * price_btc\n",
    "my_eth_value = my_eth * price_eth\n",
    "\n",
    "# Print current crypto wallet balance\n",
    "print(f\"The current value of your {my_btc} BTC is ${my_btc_value:0.2f} CAD\")\n",
    "print(f\"The current value of your {my_eth} ETH is ${my_eth_value:0.2f} CAD\")"
   ]
  },
  {
   "cell_type": "markdown",
   "metadata": {},
   "source": [
    "### Collect Investments Data Using Alpaca: `SPY` (stocks) and `AGG` (bonds)"
   ]
  },
  {
   "cell_type": "code",
   "execution_count": 6,
   "metadata": {},
   "outputs": [],
   "source": [
    "# Set current amount of shares\n",
    "my_agg = 200\n",
    "my_spy = 50"
   ]
  },
  {
   "cell_type": "code",
   "execution_count": 7,
   "metadata": {},
   "outputs": [],
   "source": [
    "# Set Alpaca API key and secret\n",
    "alpaca_api_key = os.getenv(\"ALPACA_API_KEY\")\n",
    "alpaca_secret_key = os.getenv(\"ALPACA_SECRET_KEY\")\n",
    "\n",
    "# Create the Alpaca API object\n",
    "api = tradeapi.REST(\n",
    "    key_id=alpaca_api_key,\n",
    "    secret_key=alpaca_secret_key,\n",
    "    api_version='v2'\n",
    ")"
   ]
  },
  {
   "cell_type": "code",
   "execution_count": 8,
   "metadata": {},
   "outputs": [],
   "source": [
    "# Format current date as ISO format\n",
    "today = pd.to_datetime(\"today\").isoformat()\n",
    "\n",
    "# Set the tickers\n",
    "tickers = ['AGG', 'SPY']\n",
    "\n",
    "# Set timeframe to '1D' for Alpaca API\n",
    "timeframe = \"1D\"\n",
    "\n",
    "# Get current closing prices for SPY and AGG\n",
    "# (use a limit=1000 parameter to call the most recent 1000 days of data)\n",
    "df = api.get_barset(tickers, timeframe=timeframe, limit=1000).df\n",
    "\n",
    "# Preview DataFrame\n",
    "df.tail()"
   ]
  },
  {
   "cell_type": "code",
   "execution_count": 9,
   "metadata": {},
   "outputs": [],
   "source": [
    "# Pick AGG and SPY close prices\n",
    "df_close = df[[('AGG', 'close'), ('SPY', 'close')]].droplevel(1, axis=1)\n",
    "agg_close_price, spy_close_price = df_close.iloc[-1]\n",
    "\n",
    "# Print AGG and SPY close prices\n",
    "print(f\"Current AGG closing price: ${agg_close_price}\")\n",
    "print(f\"Current SPY closing price: ${spy_close_price}\")"
   ]
  },
  {
   "cell_type": "code",
   "execution_count": 10,
   "metadata": {},
   "outputs": [],
   "source": [
    "# Compute the current value of shares\n",
    "my_spy_value = my_spy * spy_close_price\n",
    "my_agg_value = my_agg * agg_close_price\n",
    "\n",
    "# Print current value of shares\n",
    "print(f\"The current value of your {my_spy} SPY shares is ${my_spy_value:0.2f}\")\n",
    "print(f\"The current value of your {my_agg} AGG shares is ${my_agg_value:0.2f}\")"
   ]
  },
  {
   "cell_type": "markdown",
   "metadata": {},
   "source": [
    "### Savings Health Analysis"
   ]
  },
  {
   "cell_type": "code",
   "execution_count": 11,
   "metadata": {},
   "outputs": [],
   "source": [
    "# Set monthly household income\n",
    "monthly_income = 12000\n",
    "\n",
    "# Consolidate financial assets data\n",
    "my_crypto_value = my_btc_value + my_eth_value\n",
    "my_shares_value = my_agg_value + my_spy_value\n",
    "\n",
    "# Create savings DataFrame\n",
    "df_savings = pd.DataFrame.from_dict(\n",
    "    {\n",
    "        'crypto': [my_crypto_value],\n",
    "        'shares': [my_shares_value],\n",
    "    },\n",
    "    orient='index',\n",
    "    columns=['amount']\n",
    ")\n",
    "\n",
    "# Display savings DataFrame\n",
    "print(df_savings.head())"
   ]
  },
  {
   "cell_type": "code",
   "execution_count": 12,
   "metadata": {},
   "outputs": [],
   "source": [
    "# Plot savings pie chart\n",
    "df_savings.plot.pie(title='Composition of Personal Savings', y='amount')"
   ]
  },
  {
   "cell_type": "code",
   "execution_count": 13,
   "metadata": {},
   "outputs": [],
   "source": [
    "# Set ideal emergency fund\n",
    "emergency_fund = monthly_income * 3\n",
    "\n",
    "# Calculate total amount of savings\n",
    "total_savings = df_savings['amount'].sum()\n",
    "\n",
    "# Validate saving health\n",
    "if total_savings > emergency_fund:\n",
    "    message = 'Congratulations! You have enough money in your emergency fund.'\n",
    "elif total_savings == emergency_fund:\n",
    "    message = 'Congratulations! You have reached your emergency fund financial goal.'\n",
    "else:\n",
    "    message = f'You are still ${round(emergency_fund - total_savings, 2)} away from reaching your emergency fund financial goal.'\n",
    "print(message)"
   ]
  },
  {
   "cell_type": "markdown",
   "metadata": {},
   "source": [
    "## Part 2 - Retirement Planning\n",
    "\n",
    "### Monte Carlo Simulation"
   ]
  },
  {
   "cell_type": "code",
   "execution_count": 14,
   "metadata": {},
   "outputs": [],
   "source": [
    "# Set start and end dates of five years back from today.\n",
    "# Sample results may vary from the solution based on the time frame chosen\n",
    "date_today = pd.to_datetime(\"today\").tz_localize('Australia/Sydney').tz_convert(None)\n",
    "date_5yrs_ago = (date_today - pd.DateOffset(years=5))\n",
    "start_date = date_5yrs_ago.isoformat()\n",
    "end_date = date_today.isoformat()"
   ]
  },
  {
   "cell_type": "code",
   "execution_count": 15,
   "metadata": {},
   "outputs": [],
   "source": [
    "# Get 5 years' worth of historical data for SPY and AGG\n",
    "# (use a limit=1000 parameter to call the most recent 1000 days of data)\n",
    "\n",
    "# Pull data and append to a list then concatenate at the end for better efficiency\n",
    "api_limit = 1000\n",
    "to_date = end_date\n",
    "stock_data_list = []\n",
    "# Pull data and drop invalid rows\n",
    "historical_data = api.get_barset(\n",
    "    tickers,\n",
    "    timeframe=timeframe,\n",
    "    limit=api_limit,\n",
    "    start=start_date,\n",
    "    end=to_date,\n",
    ").df.dropna()\n",
    "# Keep pulling data until you get all the way to the start date\n",
    "while historical_data.index[0].isoformat() > start_date:\n",
    "    # Append all rows except the first row as that will be added in the next iteration\n",
    "    stock_data_list.append(historical_data.iloc[1:].copy())\n",
    "    # update the ending date to pull older data\n",
    "    to_date = historical_data.index[0].isoformat()\n",
    "    # TODO: Add a delay to obey the rate limit of 200 requests every minute per API key\n",
    "    historical_data = api.get_barset(\n",
    "        tickers,\n",
    "        timeframe=timeframe,\n",
    "        limit=api_limit,\n",
    "        start=start_date,\n",
    "        end=to_date,\n",
    "    ).df.dropna()\n",
    "stock_data_list.append(historical_data.copy())\n",
    "\n",
    "# Concatenate all the data into a single dataframe and sort the index\n",
    "df_stock_data = pd.concat(stock_data_list).sort_index()\n",
    "# Select only the data between the start and end dates\n",
    "df_stock_data = df_stock_data.loc[start_date:end_date]\n",
    "# Drop duplicate rows if necessary\n",
    "if True in (df_stock_data.duplicated().value_counts().index):\n",
    "    df_stock_data.drop_duplicates(inplace=True)\n",
    "    print('Dropped duplicate rows.')\n",
    "\n",
    "# Display sample data\n",
    "df_stock_data.head()"
   ]
  },
  {
   "cell_type": "code",
   "execution_count": 16,
   "metadata": {},
   "outputs": [],
   "source": [
    "# Configuring a Monte Carlo simulation to forecast 30 years cumulative returns\n",
    "num_yrs_forecast = 30\n",
    "MC_30_yrs = MCSimulation(\n",
    "    portfolio_data = df_stock_data,\n",
    "    weights = [0.4, 0.6],\n",
    "    num_simulation = 500,\n",
    "    num_trading_days = 252*num_yrs_forecast\n",
    ")"
   ]
  },
  {
   "cell_type": "code",
   "execution_count": 17,
   "metadata": {},
   "outputs": [],
   "source": [
    "# Printing the simulation input data\n",
    "MC_30_yrs.portfolio_data.head()"
   ]
  },
  {
   "cell_type": "code",
   "execution_count": 18,
   "metadata": {},
   "outputs": [],
   "source": [
    "# Running a Monte Carlo simulation to forecast 30 years cumulative returns\n",
    "MC_30_yrs.calc_cumulative_return()"
   ]
  },
  {
   "cell_type": "code",
   "execution_count": 19,
   "metadata": {},
   "outputs": [],
   "source": [
    "# Plot simulation outcomes\n",
    "line_plot_30_yrs = MC_30_yrs.plot_simulation()"
   ]
  },
  {
   "cell_type": "code",
   "execution_count": 20,
   "metadata": {},
   "outputs": [],
   "source": [
    "# Plot probability distribution and confidence intervals\n",
    "dist_plot_30_yrs = MC_30_yrs.plot_distribution()"
   ]
  },
  {
   "cell_type": "markdown",
   "metadata": {},
   "source": [
    "### Retirement Analysis"
   ]
  },
  {
   "cell_type": "code",
   "execution_count": 21,
   "metadata": {},
   "outputs": [],
   "source": [
    "# Fetch summary statistics from the Monte Carlo simulation results\n",
    "tbl_30_yrs = MC_30_yrs.summarize_cumulative_return()\n",
    "\n",
    "# Print summary statistics\n",
    "print(tbl_30_yrs)"
   ]
  },
  {
   "cell_type": "markdown",
   "metadata": {},
   "source": [
    "### Calculate the expected portfolio return at the `95%` lower and upper confidence intervals based on a `$20,000` initial investment."
   ]
  },
  {
   "cell_type": "code",
   "execution_count": 22,
   "metadata": {},
   "outputs": [],
   "source": [
    "# Set initial investment\n",
    "initial_investment = 20000\n",
    "\n",
    "# Use the lower and upper `95%` confidence intervals to calculate the range of the possible outcomes of our $20,000\n",
    "ci_lower_30_yrs = round(tbl_30_yrs['95% CI Lower']*initial_investment, 2)\n",
    "ci_upper_30_yrs = round(tbl_30_yrs['95% CI Upper']*initial_investment, 2)\n",
    "\n",
    "# Print results\n",
    "print(f\"There is a 95% chance that an initial investment of ${initial_investment} in the portfolio\"\n",
    "      f\" over the next 30 years will end within in the range of\"\n",
    "      f\" ${ci_lower_30_yrs} and ${ci_upper_30_yrs}.\")"
   ]
  },
  {
   "cell_type": "markdown",
   "metadata": {},
   "source": [
    "### Calculate the expected portfolio return at the `95%` lower and upper confidence intervals based on a `50%` increase in the initial investment."
   ]
  },
  {
   "cell_type": "code",
   "execution_count": 23,
   "metadata": {},
   "outputs": [],
   "source": [
    "# Set initial investment\n",
    "initial_investment = 20000 * 1.5\n",
    "\n",
    "# Use the lower and upper `95%` confidence intervals to calculate the range of the possible outcomes of our $30,000\n",
    "ci_lower_30_yrs = round(tbl_30_yrs['95% CI Lower']*initial_investment, 2)\n",
    "ci_upper_30_yrs = round(tbl_30_yrs['95% CI Upper']*initial_investment, 2)\n",
    "\n",
    "# Print results\n",
    "print(f\"There is a 95% chance that an initial investment of ${initial_investment} in the portfolio\"\n",
    "      f\" over the next 30 years will end within in the range of\"\n",
    "      f\" ${ci_lower_30_yrs} and ${ci_upper_30_yrs}.\")"
   ]
  },
  {
   "cell_type": "markdown",
   "metadata": {},
   "source": [
    "## Optional Challenge - Early Retirement\n",
    "\n",
    "\n",
    "### Five Years Retirement Option"
   ]
  },
  {
   "cell_type": "code",
   "execution_count": 24,
   "metadata": {},
   "outputs": [],
   "source": [
    "# Configuring a Monte Carlo simulation to forecast 5 years cumulative returns\n",
    "# Adjust the portfolio to have a higher stock to bond ratio (higher risk)\n",
    "num_yrs_forecast = 5\n",
    "MC_5_yrs = MCSimulation(\n",
    "    portfolio_data = df_stock_data,\n",
    "    weights = [0.3, 0.7],\n",
    "    num_simulation = 500,\n",
    "    num_trading_days = 252*num_yrs_forecast\n",
    ")"
   ]
  },
  {
   "cell_type": "code",
   "execution_count": 25,
   "metadata": {},
   "outputs": [],
   "source": [
    "# Running a Monte Carlo simulation to forecast 5 years cumulative returns\n",
    "MC_5_yrs.calc_cumulative_return()"
   ]
  },
  {
   "cell_type": "code",
   "execution_count": 26,
   "metadata": {},
   "outputs": [],
   "source": [
    "# Plot simulation outcomes\n",
    "line_plot_5_yrs = MC_5_yrs.plot_simulation()"
   ]
  },
  {
   "cell_type": "code",
   "execution_count": 27,
   "metadata": {},
   "outputs": [],
   "source": [
    "# Plot probability distribution and confidence intervals\n",
    "dist_plot_5_yrs = MC_5_yrs.plot_distribution()"
   ]
  },
  {
   "cell_type": "code",
   "execution_count": 28,
   "metadata": {},
   "outputs": [],
   "source": [
    "# Fetch summary statistics from the Monte Carlo simulation results\n",
    "tbl_5_yrs = MC_5_yrs.summarize_cumulative_return()\n",
    "\n",
    "# Print summary statistics\n",
    "print(tbl_5_yrs)"
   ]
  },
  {
   "cell_type": "code",
   "execution_count": 29,
   "metadata": {},
   "outputs": [],
   "source": [
    "# Set initial investment\n",
    "initial_investment = 60000\n",
    "\n",
    "# Use the lower and upper `95%` confidence intervals to calculate the range of the possible outcomes of our $60,000\n",
    "ci_lower_5_yrs = round(tbl_5_yrs['95% CI Lower']*initial_investment, 2)\n",
    "ci_upper_5_yrs = round(tbl_5_yrs['95% CI Upper']*initial_investment, 2)\n",
    "\n",
    "# Print results\n",
    "print(f\"There is a 95% chance that an initial investment of ${initial_investment} in the portfolio\"\n",
    "      f\" over the next 5 years will end within in the range of\"\n",
    "      f\" ${ci_lower_5_yrs} and ${ci_upper_5_yrs}.\")"
   ]
  },
  {
   "cell_type": "markdown",
   "metadata": {},
   "source": [
    "### Ten Years Retirement Option"
   ]
  },
  {
   "cell_type": "code",
   "execution_count": 30,
   "metadata": {},
   "outputs": [],
   "source": [
    "# Configuring a Monte Carlo simulation to forecast 10 years cumulative returns\n",
    "num_yrs_forecast = 10\n",
    "MC_10_yrs = MCSimulation(\n",
    "    portfolio_data = df_stock_data,\n",
    "    weights = [0.3, 0.7],\n",
    "    num_simulation = 500,\n",
    "    num_trading_days = 252*num_yrs_forecast\n",
    ")"
   ]
  },
  {
   "cell_type": "code",
   "execution_count": 31,
   "metadata": {},
   "outputs": [],
   "source": [
    "# Running a Monte Carlo simulation to forecast 10 years cumulative returns\n",
    "MC_10_yrs.calc_cumulative_return()"
   ]
  },
  {
   "cell_type": "code",
   "execution_count": 32,
   "metadata": {},
   "outputs": [],
   "source": [
    "# Plot simulation outcomes\n",
    "line_plot_10_yrs = MC_10_yrs.plot_simulation()"
   ]
  },
  {
   "cell_type": "code",
   "execution_count": 33,
   "metadata": {},
   "outputs": [],
   "source": [
    "# Plot probability distribution and confidence intervals\n",
    "dist_plot_10_yrs = MC_10_yrs.plot_distribution()"
   ]
  },
  {
   "cell_type": "code",
   "execution_count": 34,
   "metadata": {},
   "outputs": [],
   "source": [
    "# Fetch summary statistics from the Monte Carlo simulation results\n",
    "tbl_10_yrs = MC_10_yrs.summarize_cumulative_return()\n",
    "\n",
    "# Print summary statistics\n",
    "print(tbl_10_yrs)"
   ]
  },
  {
   "cell_type": "code",
   "execution_count": 35,
   "metadata": {},
   "outputs": [],
   "source": [
    "# Set initial investment\n",
    "initial_investment = 60000\n",
    "\n",
    "# Use the lower and upper `95%` confidence intervals to calculate the range of the possible outcomes of our $60,000\n",
    "ci_lower_10_yrs = round(tbl_10_yrs['95% CI Lower']*initial_investment, 2)\n",
    "ci_upper_10_yrs = round(tbl_10_yrs['95% CI Upper']*initial_investment, 2)\n",
    "\n",
    "# Print results\n",
    "print(f\"There is a 95% chance that an initial investment of ${initial_investment} in the portfolio\"\n",
    "      f\" over the next 10 years will end within in the range of\"\n",
    "      f\" ${ci_lower_10_yrs} and ${ci_upper_10_yrs}.\")"
   ]
  },
  {
   "cell_type": "code",
   "execution_count": null,
   "metadata": {},
   "outputs": [],
   "source": []
  }
 ],
 "metadata": {
  "kernelspec": {
   "display_name": "Python 3",
   "language": "python",
   "name": "python3"
  },
  "language_info": {
   "codemirror_mode": {
    "name": "ipython",
    "version": 3
   },
   "file_extension": ".py",
   "mimetype": "text/x-python",
   "name": "python",
   "nbconvert_exporter": "python",
   "pygments_lexer": "ipython3",
   "version": "3.7.7"
  },
  "nteract": {
   "version": "0.28.0"
  }
 },
 "nbformat": 4,
 "nbformat_minor": 4
}
